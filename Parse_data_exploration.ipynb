{
 "cells": [
  {
   "cell_type": "code",
   "execution_count": 1,
   "metadata": {
    "collapsed": false
   },
   "outputs": [],
   "source": [
    "import sys\n",
    "sys.path.insert(0, './')\n",
    "import scraper\n",
    "import pickle"
   ]
  },
  {
   "cell_type": "code",
   "execution_count": 2,
   "metadata": {
    "collapsed": false
   },
   "outputs": [
    {
     "name": "stdout",
     "output_type": "stream",
     "text": [
      "STARTING SESSION\n",
      "OPENED\n",
      "SCRAPED\n",
      "CLOSED\n",
      "STARTING SESSION\n",
      "CLOSED\n"
     ]
    }
   ],
   "source": [
    "scrape = scraper.m2g_scrape('https://m2g.io')\n",
    "data = scraper.m2g_data_scrape(scrape)"
   ]
  },
  {
   "cell_type": "code",
   "execution_count": 3,
   "metadata": {
    "collapsed": false
   },
   "outputs": [
    {
     "name": "stdout",
     "output_type": "stream",
     "text": [
      "dict_keys(['DWI', 'FMRI'])\n"
     ]
    }
   ],
   "source": [
    "print(data.keys())"
   ]
  },
  {
   "cell_type": "code",
   "execution_count": 6,
   "metadata": {
    "collapsed": false
   },
   "outputs": [
    {
     "name": "stdout",
     "output_type": "stream",
     "text": [
      "dict_keys(['BNU1', 'BNU3', 'HNU1', 'KKI2009', 'MRN1313', 'NKI1', 'NKIENH', 'SWU4', 'Templeton114', 'Templeton255'])\n"
     ]
    }
   ],
   "source": [
    "print(data['DWI'].keys())"
   ]
  },
  {
   "cell_type": "code",
   "execution_count": 2,
   "metadata": {
    "collapsed": false
   },
   "outputs": [],
   "source": [
    "data = pickle.load(open(\"data.pickle\", \"rb\"))"
   ]
  },
  {
   "cell_type": "code",
   "execution_count": 5,
   "metadata": {
    "collapsed": false
   },
   "outputs": [
    {
     "name": "stdout",
     "output_type": "stream",
     "text": [
      "[['sub-0021001_ses-1_dwi_aligned.nii.gz', 'http://mrneurodata.s3-website-us-east-1.amazonaws.com/NKI1/ndmg_0-0-48/reg_dti/https://mrneurodata.s3.amazonaws.com/data/NKI1/ndmg_0-0-48/reg_dti/sub-0021001_ses-1_dwi_aligned.nii.gz'], ['sub-0021001_ses-2_dwi_aligned.nii.gz', 'http://mrneurodata.s3-website-us-east-1.amazonaws.com/NKI1/ndmg_0-0-48/reg_dti/https://mrneurodata.s3.amazonaws.com/data/NKI1/ndmg_0-0-48/reg_dti/sub-0021001_ses-2_dwi_aligned.nii.gz'], ['sub-0021002_ses-1_dwi_aligned.nii.gz', 'http://mrneurodata.s3-website-us-east-1.amazonaws.com/NKI1/ndmg_0-0-48/reg_dti/https://mrneurodata.s3.amazonaws.com/data/NKI1/ndmg_0-0-48/reg_dti/sub-0021002_ses-1_dwi_aligned.nii.gz'], ['sub-0021002_ses-2_dwi_aligned.nii.gz', 'http://mrneurodata.s3-website-us-east-1.amazonaws.com/NKI1/ndmg_0-0-48/reg_dti/https://mrneurodata.s3.amazonaws.com/data/NKI1/ndmg_0-0-48/reg_dti/sub-0021002_ses-2_dwi_aligned.nii.gz'], ['sub-0021006_ses-1_dwi_aligned.nii.gz', 'http://mrneurodata.s3-website-us-east-1.amazonaws.com/NKI1/ndmg_0-0-48/reg_dti/https://mrneurodata.s3.amazonaws.com/data/NKI1/ndmg_0-0-48/reg_dti/sub-0021006_ses-1_dwi_aligned.nii.gz'], ['sub-0021006_ses-2_dwi_aligned.nii.gz', 'http://mrneurodata.s3-website-us-east-1.amazonaws.com/NKI1/ndmg_0-0-48/reg_dti/https://mrneurodata.s3.amazonaws.com/data/NKI1/ndmg_0-0-48/reg_dti/sub-0021006_ses-2_dwi_aligned.nii.gz'], ['sub-0021018_ses-1_dwi_aligned.nii.gz', 'http://mrneurodata.s3-website-us-east-1.amazonaws.com/NKI1/ndmg_0-0-48/reg_dti/https://mrneurodata.s3.amazonaws.com/data/NKI1/ndmg_0-0-48/reg_dti/sub-0021018_ses-1_dwi_aligned.nii.gz'], ['sub-0021018_ses-2_dwi_aligned.nii.gz', 'http://mrneurodata.s3-website-us-east-1.amazonaws.com/NKI1/ndmg_0-0-48/reg_dti/https://mrneurodata.s3.amazonaws.com/data/NKI1/ndmg_0-0-48/reg_dti/sub-0021018_ses-2_dwi_aligned.nii.gz'], ['sub-0021024_ses-1_dwi_aligned.nii.gz', 'http://mrneurodata.s3-website-us-east-1.amazonaws.com/NKI1/ndmg_0-0-48/reg_dti/https://mrneurodata.s3.amazonaws.com/data/NKI1/ndmg_0-0-48/reg_dti/sub-0021024_ses-1_dwi_aligned.nii.gz'], ['sub-0021024_ses-2_dwi_aligned.nii.gz', 'http://mrneurodata.s3-website-us-east-1.amazonaws.com/NKI1/ndmg_0-0-48/reg_dti/https://mrneurodata.s3.amazonaws.com/data/NKI1/ndmg_0-0-48/reg_dti/sub-0021024_ses-2_dwi_aligned.nii.gz'], ['sub-1793622_ses-1_dwi_aligned.nii.gz', 'http://mrneurodata.s3-website-us-east-1.amazonaws.com/NKI1/ndmg_0-0-48/reg_dti/https://mrneurodata.s3.amazonaws.com/data/NKI1/ndmg_0-0-48/reg_dti/sub-1793622_ses-1_dwi_aligned.nii.gz'], ['sub-1793622_ses-2_dwi_aligned.nii.gz', 'http://mrneurodata.s3-website-us-east-1.amazonaws.com/NKI1/ndmg_0-0-48/reg_dti/https://mrneurodata.s3.amazonaws.com/data/NKI1/ndmg_0-0-48/reg_dti/sub-1793622_ses-2_dwi_aligned.nii.gz'], ['sub-1961098_ses-1_dwi_aligned.nii.gz', 'http://mrneurodata.s3-website-us-east-1.amazonaws.com/NKI1/ndmg_0-0-48/reg_dti/https://mrneurodata.s3.amazonaws.com/data/NKI1/ndmg_0-0-48/reg_dti/sub-1961098_ses-1_dwi_aligned.nii.gz'], ['sub-1961098_ses-2_dwi_aligned.nii.gz', 'http://mrneurodata.s3-website-us-east-1.amazonaws.com/NKI1/ndmg_0-0-48/reg_dti/https://mrneurodata.s3.amazonaws.com/data/NKI1/ndmg_0-0-48/reg_dti/sub-1961098_ses-2_dwi_aligned.nii.gz'], ['sub-2475376_ses-1_dwi_aligned.nii.gz', 'http://mrneurodata.s3-website-us-east-1.amazonaws.com/NKI1/ndmg_0-0-48/reg_dti/https://mrneurodata.s3.amazonaws.com/data/NKI1/ndmg_0-0-48/reg_dti/sub-2475376_ses-1_dwi_aligned.nii.gz'], ['sub-2475376_ses-2_dwi_aligned.nii.gz', 'http://mrneurodata.s3-website-us-east-1.amazonaws.com/NKI1/ndmg_0-0-48/reg_dti/https://mrneurodata.s3.amazonaws.com/data/NKI1/ndmg_0-0-48/reg_dti/sub-2475376_ses-2_dwi_aligned.nii.gz'], ['sub-2799329_ses-1_dwi_aligned.nii.gz', 'http://mrneurodata.s3-website-us-east-1.amazonaws.com/NKI1/ndmg_0-0-48/reg_dti/https://mrneurodata.s3.amazonaws.com/data/NKI1/ndmg_0-0-48/reg_dti/sub-2799329_ses-1_dwi_aligned.nii.gz'], ['sub-2799329_ses-2_dwi_aligned.nii.gz', 'http://mrneurodata.s3-website-us-east-1.amazonaws.com/NKI1/ndmg_0-0-48/reg_dti/https://mrneurodata.s3.amazonaws.com/data/NKI1/ndmg_0-0-48/reg_dti/sub-2799329_ses-2_dwi_aligned.nii.gz'], ['sub-2842950_ses-1_dwi_aligned.nii.gz', 'http://mrneurodata.s3-website-us-east-1.amazonaws.com/NKI1/ndmg_0-0-48/reg_dti/https://mrneurodata.s3.amazonaws.com/data/NKI1/ndmg_0-0-48/reg_dti/sub-2842950_ses-1_dwi_aligned.nii.gz'], ['sub-2842950_ses-2_dwi_aligned.nii.gz', 'http://mrneurodata.s3-website-us-east-1.amazonaws.com/NKI1/ndmg_0-0-48/reg_dti/https://mrneurodata.s3.amazonaws.com/data/NKI1/ndmg_0-0-48/reg_dti/sub-2842950_ses-2_dwi_aligned.nii.gz'], ['sub-3201815_ses-1_dwi_aligned.nii.gz', 'http://mrneurodata.s3-website-us-east-1.amazonaws.com/NKI1/ndmg_0-0-48/reg_dti/https://mrneurodata.s3.amazonaws.com/data/NKI1/ndmg_0-0-48/reg_dti/sub-3201815_ses-1_dwi_aligned.nii.gz'], ['sub-3201815_ses-2_dwi_aligned.nii.gz', 'http://mrneurodata.s3-website-us-east-1.amazonaws.com/NKI1/ndmg_0-0-48/reg_dti/https://mrneurodata.s3.amazonaws.com/data/NKI1/ndmg_0-0-48/reg_dti/sub-3201815_ses-2_dwi_aligned.nii.gz'], ['sub-3313349_ses-1_dwi_aligned.nii.gz', 'http://mrneurodata.s3-website-us-east-1.amazonaws.com/NKI1/ndmg_0-0-48/reg_dti/https://mrneurodata.s3.amazonaws.com/data/NKI1/ndmg_0-0-48/reg_dti/sub-3313349_ses-1_dwi_aligned.nii.gz'], ['sub-3313349_ses-2_dwi_aligned.nii.gz', 'http://mrneurodata.s3-website-us-east-1.amazonaws.com/NKI1/ndmg_0-0-48/reg_dti/https://mrneurodata.s3.amazonaws.com/data/NKI1/ndmg_0-0-48/reg_dti/sub-3313349_ses-2_dwi_aligned.nii.gz'], ['sub-3315657_ses-1_dwi_aligned.nii.gz', 'http://mrneurodata.s3-website-us-east-1.amazonaws.com/NKI1/ndmg_0-0-48/reg_dti/https://mrneurodata.s3.amazonaws.com/data/NKI1/ndmg_0-0-48/reg_dti/sub-3315657_ses-1_dwi_aligned.nii.gz'], ['sub-3315657_ses-2_dwi_aligned.nii.gz', 'http://mrneurodata.s3-website-us-east-1.amazonaws.com/NKI1/ndmg_0-0-48/reg_dti/https://mrneurodata.s3.amazonaws.com/data/NKI1/ndmg_0-0-48/reg_dti/sub-3315657_ses-2_dwi_aligned.nii.gz'], ['sub-3795193_ses-1_dwi_aligned.nii.gz', 'http://mrneurodata.s3-website-us-east-1.amazonaws.com/NKI1/ndmg_0-0-48/reg_dti/https://mrneurodata.s3.amazonaws.com/data/NKI1/ndmg_0-0-48/reg_dti/sub-3795193_ses-1_dwi_aligned.nii.gz'], ['sub-3795193_ses-2_dwi_aligned.nii.gz', 'http://mrneurodata.s3-website-us-east-1.amazonaws.com/NKI1/ndmg_0-0-48/reg_dti/https://mrneurodata.s3.amazonaws.com/data/NKI1/ndmg_0-0-48/reg_dti/sub-3795193_ses-2_dwi_aligned.nii.gz'], ['sub-3808535_ses-1_dwi_aligned.nii.gz', 'http://mrneurodata.s3-website-us-east-1.amazonaws.com/NKI1/ndmg_0-0-48/reg_dti/https://mrneurodata.s3.amazonaws.com/data/NKI1/ndmg_0-0-48/reg_dti/sub-3808535_ses-1_dwi_aligned.nii.gz'], ['sub-3808535_ses-2_dwi_aligned.nii.gz', 'http://mrneurodata.s3-website-us-east-1.amazonaws.com/NKI1/ndmg_0-0-48/reg_dti/https://mrneurodata.s3.amazonaws.com/data/NKI1/ndmg_0-0-48/reg_dti/sub-3808535_ses-2_dwi_aligned.nii.gz'], ['sub-4176156_ses-1_dwi_aligned.nii.gz', 'http://mrneurodata.s3-website-us-east-1.amazonaws.com/NKI1/ndmg_0-0-48/reg_dti/https://mrneurodata.s3.amazonaws.com/data/NKI1/ndmg_0-0-48/reg_dti/sub-4176156_ses-1_dwi_aligned.nii.gz'], ['sub-4176156_ses-2_dwi_aligned.nii.gz', 'http://mrneurodata.s3-website-us-east-1.amazonaws.com/NKI1/ndmg_0-0-48/reg_dti/https://mrneurodata.s3.amazonaws.com/data/NKI1/ndmg_0-0-48/reg_dti/sub-4176156_ses-2_dwi_aligned.nii.gz'], ['sub-4288245_ses-1_dwi_aligned.nii.gz', 'http://mrneurodata.s3-website-us-east-1.amazonaws.com/NKI1/ndmg_0-0-48/reg_dti/https://mrneurodata.s3.amazonaws.com/data/NKI1/ndmg_0-0-48/reg_dti/sub-4288245_ses-1_dwi_aligned.nii.gz'], ['sub-4288245_ses-2_dwi_aligned.nii.gz', 'http://mrneurodata.s3-website-us-east-1.amazonaws.com/NKI1/ndmg_0-0-48/reg_dti/https://mrneurodata.s3.amazonaws.com/data/NKI1/ndmg_0-0-48/reg_dti/sub-4288245_ses-2_dwi_aligned.nii.gz'], ['sub-7055197_ses-1_dwi_aligned.nii.gz', 'http://mrneurodata.s3-website-us-east-1.amazonaws.com/NKI1/ndmg_0-0-48/reg_dti/https://mrneurodata.s3.amazonaws.com/data/NKI1/ndmg_0-0-48/reg_dti/sub-7055197_ses-1_dwi_aligned.nii.gz'], ['sub-7055197_ses-2_dwi_aligned.nii.gz', 'http://mrneurodata.s3-website-us-east-1.amazonaws.com/NKI1/ndmg_0-0-48/reg_dti/https://mrneurodata.s3.amazonaws.com/data/NKI1/ndmg_0-0-48/reg_dti/sub-7055197_ses-2_dwi_aligned.nii.gz'], ['sub-8735778_ses-1_dwi_aligned.nii.gz', 'http://mrneurodata.s3-website-us-east-1.amazonaws.com/NKI1/ndmg_0-0-48/reg_dti/https://mrneurodata.s3.amazonaws.com/data/NKI1/ndmg_0-0-48/reg_dti/sub-8735778_ses-1_dwi_aligned.nii.gz'], ['sub-8735778_ses-2_dwi_aligned.nii.gz', 'http://mrneurodata.s3-website-us-east-1.amazonaws.com/NKI1/ndmg_0-0-48/reg_dti/https://mrneurodata.s3.amazonaws.com/data/NKI1/ndmg_0-0-48/reg_dti/sub-8735778_ses-2_dwi_aligned.nii.gz'], ['sub-9630905_ses-1_dwi_aligned.nii.gz', 'http://mrneurodata.s3-website-us-east-1.amazonaws.com/NKI1/ndmg_0-0-48/reg_dti/https://mrneurodata.s3.amazonaws.com/data/NKI1/ndmg_0-0-48/reg_dti/sub-9630905_ses-1_dwi_aligned.nii.gz'], ['sub-9630905_ses-2_dwi_aligned.nii.gz', 'http://mrneurodata.s3-website-us-east-1.amazonaws.com/NKI1/ndmg_0-0-48/reg_dti/https://mrneurodata.s3.amazonaws.com/data/NKI1/ndmg_0-0-48/reg_dti/sub-9630905_ses-2_dwi_aligned.nii.gz']]\n"
     ]
    }
   ],
   "source": [
    "print(data[\"DWI\"][\"NKI1\"][\"Aligned Images\"])"
   ]
  },
  {
   "cell_type": "code",
   "execution_count": null,
   "metadata": {
    "collapsed": true
   },
   "outputs": [],
   "source": []
  }
 ],
 "metadata": {
  "kernelspec": {
   "display_name": "Python 3",
   "language": "python",
   "name": "python3"
  },
  "language_info": {
   "codemirror_mode": {
    "name": "ipython",
    "version": 3
   },
   "file_extension": ".py",
   "mimetype": "text/x-python",
   "name": "python",
   "nbconvert_exporter": "python",
   "pygments_lexer": "ipython3",
   "version": "3.6.2"
  }
 },
 "nbformat": 4,
 "nbformat_minor": 2
}
