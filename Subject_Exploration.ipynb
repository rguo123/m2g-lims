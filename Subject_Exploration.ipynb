{
 "cells": [
  {
   "cell_type": "code",
   "execution_count": 1,
   "metadata": {
    "collapsed": true
   },
   "outputs": [],
   "source": [
    "from pymongo import MongoClient\n"
   ]
  },
  {
   "cell_type": "code",
   "execution_count": 2,
   "metadata": {
    "collapsed": true
   },
   "outputs": [],
   "source": [
    "client = MongoClient(\"mongodb://localhost:27017/\")\n",
    "db = client.m2gdatabase\n",
    "lims = db.lims"
   ]
  },
  {
   "cell_type": "code",
   "execution_count": 27,
   "metadata": {
    "collapsed": true
   },
   "outputs": [],
   "source": [
    "subject = lims.find_one({\"_id\": \"sub-0025890\"})"
   ]
  },
  {
   "cell_type": "code",
   "execution_count": 28,
   "metadata": {
    "collapsed": false
   },
   "outputs": [
    {
     "name": "stdout",
     "output_type": "stream",
     "text": [
      "[u'_id', u'DWI', u'metadata']\n"
     ]
    }
   ],
   "source": [
    "print(subject.keys())"
   ]
  },
  {
   "cell_type": "code",
   "execution_count": 29,
   "metadata": {
    "collapsed": false
   },
   "outputs": [
    {
     "name": "stdout",
     "output_type": "stream",
     "text": [
      "{u'Baseline': {u'AGE_AT_SCAN_1': u'21', u'SEX': u'2'}}\n"
     ]
    }
   ],
   "source": [
    "metadta = subject.pop(\"metadata\")\n",
    "print(metadta)"
   ]
  },
  {
   "cell_type": "code",
   "execution_count": 12,
   "metadata": {
    "collapsed": false
   },
   "outputs": [
    {
     "name": "stdout",
     "output_type": "stream",
     "text": [
      "[{u'http://mrneurodata$$$s3-website-us-east-1$$$amazonaws$$$com/BNU1/ndmg_0-0-48/reg_dti/https://mrneurodata$$$s3$$$amazonaws$$$com/data/BNU1/ndmg_0-0-48/reg_dti/sub-0025864_ses-1_dwi_aligned$$$nii$$$gz': u''}, {u'http://mrneurodata$$$s3-website-us-east-1$$$amazonaws$$$com/BNU1/ndmg_0-0-48/reg_dti/https://mrneurodata$$$s3$$$amazonaws$$$com/data/BNU1/ndmg_0-0-48/reg_dti/sub-0025864_ses-2_dwi_aligned$$$nii$$$gz': u''}]\n",
      "[{u'http://mrneurodata$$$s3-website-us-east-1$$$amazonaws$$$com/BNU1/ndmg_0-0-48/tensors/https://mrneurodata$$$s3$$$amazonaws$$$com/data/BNU1/ndmg_0-0-48/tensors/sub-0025864_ses-1_dwi_tensors$$$npz': u''}, {u'http://mrneurodata$$$s3-website-us-east-1$$$amazonaws$$$com/BNU1/ndmg_0-0-48/tensors/https://mrneurodata$$$s3$$$amazonaws$$$com/data/BNU1/ndmg_0-0-48/tensors/sub-0025864_ses-1_dwi_tensors_fa_rgb$$$nii$$$gz': u''}, {u'http://mrneurodata$$$s3-website-us-east-1$$$amazonaws$$$com/BNU1/ndmg_0-0-48/tensors/https://mrneurodata$$$s3$$$amazonaws$$$com/data/BNU1/ndmg_0-0-48/tensors/sub-0025864_ses-2_dwi_tensors$$$npz': u''}, {u'http://mrneurodata$$$s3-website-us-east-1$$$amazonaws$$$com/BNU1/ndmg_0-0-48/tensors/https://mrneurodata$$$s3$$$amazonaws$$$com/data/BNU1/ndmg_0-0-48/tensors/sub-0025864_ses-2_dwi_tensors_fa_rgb$$$nii$$$gz': u''}]\n",
      "[{u'http://mrneurodata$$$s3-website-us-east-1$$$amazonaws$$$com/BNU1/ndmg_0-0-48/fibers/https://mrneurodata$$$s3$$$amazonaws$$$com/data/BNU1/ndmg_0-0-48/fibers/sub-0025864_ses-1_dwi_fibers$$$npz': u''}, {u'http://mrneurodata$$$s3-website-us-east-1$$$amazonaws$$$com/BNU1/ndmg_0-0-48/fibers/https://mrneurodata$$$s3$$$amazonaws$$$com/data/BNU1/ndmg_0-0-48/fibers/sub-0025864_ses-2_dwi_fibers$$$npz': u''}]\n"
     ]
    }
   ],
   "source": [
    "for datatype, derivatives in subject.items():\n",
    "    for derivative, values in derivatives.items():\n",
    "        if (isinstance(values, dict)):\n",
    "            continue\n",
    "        else:\n",
    "            print(values)"
   ]
  },
  {
   "cell_type": "code",
   "execution_count": null,
   "metadata": {
    "collapsed": true
   },
   "outputs": [],
   "source": []
  }
 ],
 "metadata": {
  "kernelspec": {
   "display_name": "Python 2",
   "language": "python",
   "name": "python2"
  },
  "language_info": {
   "codemirror_mode": {
    "name": "ipython",
    "version": 2
   },
   "file_extension": ".py",
   "mimetype": "text/x-python",
   "name": "python",
   "nbconvert_exporter": "python",
   "pygments_lexer": "ipython2",
   "version": "2.7.14"
  }
 },
 "nbformat": 4,
 "nbformat_minor": 2
}
