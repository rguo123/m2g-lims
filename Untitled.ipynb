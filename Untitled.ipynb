{
 "cells": [
  {
   "cell_type": "code",
   "execution_count": 1,
   "metadata": {
    "collapsed": true
   },
   "outputs": [],
   "source": [
    "from pymongo import MongoClient\n"
   ]
  },
  {
   "cell_type": "code",
   "execution_count": 2,
   "metadata": {
    "collapsed": true
   },
   "outputs": [],
   "source": [
    "client = MongoClient(\"mongodb://localhost:27017/\")\n",
    "db = client.m2gdatabase\n",
    "lims = db.lims"
   ]
  },
  {
   "cell_type": "code",
   "execution_count": 3,
   "metadata": {
    "collapsed": true
   },
   "outputs": [],
   "source": [
    "subject = lims.find_one({\"_id\": \"sub-0025864\"})"
   ]
  },
  {
   "cell_type": "code",
   "execution_count": 4,
   "metadata": {
    "collapsed": false
   },
   "outputs": [
    {
     "name": "stdout",
     "output_type": "stream",
     "text": [
      "[(u'_id', u'sub-0025864'), (u'DWI', {u'QA': {u'reg_dti': [{u'https://mrneurodata$$$s3$$$amazonaws$$$com/data/BNU1/ndmg_0-0-48/qa/reg_dti/sub-0025864_ses-1_dwi_aligned$$$png': u''}, {u'https://mrneurodata$$$s3$$$amazonaws$$$com/data/BNU1/ndmg_0-0-48/qa/reg_dti/sub-0025864_ses-2_dwi_aligned$$$png': u''}], u'tensors': [{u'https://mrneurodata$$$s3$$$amazonaws$$$com/data/BNU1/ndmg_0-0-48/qa/tensors/sub-0025864_ses-1_dwi_tensors_fa_rgb$$$png': u''}, {u'https://mrneurodata$$$s3$$$amazonaws$$$com/data/BNU1/ndmg_0-0-48/qa/tensors/sub-0025864_ses-2_dwi_tensors_fa_rgb$$$png': u''}]}, u'Graphs': {u'slab1068': [{u'https://mrneurodata$$$s3$$$amazonaws$$$com/data/BNU1/ndmg_0-0-48/graphs/slab1068/sub-0025864_ses-1_dwi_slab1068$$$gpickle': u''}, {u'https://mrneurodata$$$s3$$$amazonaws$$$com/data/BNU1/ndmg_0-0-48/graphs/slab1068/sub-0025864_ses-2_dwi_slab1068$$$gpickle': u''}], u'AAL': [{u'https://mrneurodata$$$s3$$$amazonaws$$$com/data/BNU1/ndmg_0-0-48/graphs/AAL/sub-0025864_ses-1_dwi_AAL$$$gpickle': u''}, {u'https://mrneurodata$$$s3$$$amazonaws$$$com/data/BNU1/ndmg_0-0-48/graphs/AAL/sub-0025864_ses-2_dwi_AAL$$$gpickle': u''}], u'DS00350': [{u'https://mrneurodata$$$s3$$$amazonaws$$$com/data/BNU1/ndmg_0-0-48/graphs/DS00350/sub-0025864_ses-1_dwi_DS00350$$$gpickle': u''}, {u'https://mrneurodata$$$s3$$$amazonaws$$$com/data/BNU1/ndmg_0-0-48/graphs/DS00350/sub-0025864_ses-2_dwi_DS00350$$$gpickle': u''}], u'JHU': [{u'https://mrneurodata$$$s3$$$amazonaws$$$com/data/BNU1/ndmg_0-0-48/graphs/JHU/sub-0025864_ses-1_dwi_JHU$$$gpickle': u''}, {u'https://mrneurodata$$$s3$$$amazonaws$$$com/data/BNU1/ndmg_0-0-48/graphs/JHU/sub-0025864_ses-2_dwi_JHU$$$gpickle': u''}], u'Talairach': [{u'https://mrneurodata$$$s3$$$amazonaws$$$com/data/BNU1/ndmg_0-0-48/graphs/Talairach/sub-0025864_ses-1_dwi_Talairach$$$gpickle': u''}, {u'https://mrneurodata$$$s3$$$amazonaws$$$com/data/BNU1/ndmg_0-0-48/graphs/Talairach/sub-0025864_ses-2_dwi_Talairach$$$gpickle': u''}], u'slab907': [{u'https://mrneurodata$$$s3$$$amazonaws$$$com/data/BNU1/ndmg_0-0-48/graphs/slab907/sub-0025864_ses-1_dwi_slab907$$$gpickle': u''}, {u'https://mrneurodata$$$s3$$$amazonaws$$$com/data/BNU1/ndmg_0-0-48/graphs/slab907/sub-0025864_ses-2_dwi_slab907$$$gpickle': u''}], u'DS00108': [{u'https://mrneurodata$$$s3$$$amazonaws$$$com/data/BNU1/ndmg_0-0-48/graphs/DS00108/sub-0025864_ses-1_dwi_DS00108$$$gpickle': u''}, {u'https://mrneurodata$$$s3$$$amazonaws$$$com/data/BNU1/ndmg_0-0-48/graphs/DS00108/sub-0025864_ses-2_dwi_DS00108$$$gpickle': u''}], u'DS03231': [{u'https://mrneurodata$$$s3$$$amazonaws$$$com/data/BNU1/ndmg_0-0-48/graphs/DS03231/sub-0025864_ses-1_dwi_DS03231$$$gpickle': u''}, {u'https://mrneurodata$$$s3$$$amazonaws$$$com/data/BNU1/ndmg_0-0-48/graphs/DS03231/sub-0025864_ses-2_dwi_DS03231$$$gpickle': u''}], u'DS16784': [{u'https://mrneurodata$$$s3$$$amazonaws$$$com/data/BNU1/ndmg_0-0-48/graphs/DS16784/sub-0025864_ses-1_dwi_DS16784$$$gpickle': u''}, {u'https://mrneurodata$$$s3$$$amazonaws$$$com/data/BNU1/ndmg_0-0-48/graphs/DS16784/sub-0025864_ses-2_dwi_DS16784$$$gpickle': u''}], u'DS00446': [{u'https://mrneurodata$$$s3$$$amazonaws$$$com/data/BNU1/ndmg_0-0-48/graphs/DS00446/sub-0025864_ses-1_dwi_DS00446$$$gpickle': u''}, {u'https://mrneurodata$$$s3$$$amazonaws$$$com/data/BNU1/ndmg_0-0-48/graphs/DS00446/sub-0025864_ses-2_dwi_DS00446$$$gpickle': u''}], u'DS00278': [{u'https://mrneurodata$$$s3$$$amazonaws$$$com/data/BNU1/ndmg_0-0-48/graphs/DS00278/sub-0025864_ses-1_dwi_DS00278$$$gpickle': u''}, {u'https://mrneurodata$$$s3$$$amazonaws$$$com/data/BNU1/ndmg_0-0-48/graphs/DS00278/sub-0025864_ses-2_dwi_DS00278$$$gpickle': u''}], u'DS00583': [{u'https://mrneurodata$$$s3$$$amazonaws$$$com/data/BNU1/ndmg_0-0-48/graphs/DS00583/sub-0025864_ses-1_dwi_DS00583$$$gpickle': u''}, {u'https://mrneurodata$$$s3$$$amazonaws$$$com/data/BNU1/ndmg_0-0-48/graphs/DS00583/sub-0025864_ses-2_dwi_DS00583$$$gpickle': u''}], u'DS00140': [{u'https://mrneurodata$$$s3$$$amazonaws$$$com/data/BNU1/ndmg_0-0-48/graphs/DS00140/sub-0025864_ses-1_dwi_DS00140$$$gpickle': u''}, {u'https://mrneurodata$$$s3$$$amazonaws$$$com/data/BNU1/ndmg_0-0-48/graphs/DS00140/sub-0025864_ses-2_dwi_DS00140$$$gpickle': u''}], u'DS01216': [{u'https://mrneurodata$$$s3$$$amazonaws$$$com/data/BNU1/ndmg_0-0-48/graphs/DS01216/sub-0025864_ses-1_dwi_DS01216$$$gpickle': u''}, {u'https://mrneurodata$$$s3$$$amazonaws$$$com/data/BNU1/ndmg_0-0-48/graphs/DS01216/sub-0025864_ses-2_dwi_DS01216$$$gpickle': u''}], u'HarvardOxford': [{u'https://mrneurodata$$$s3$$$amazonaws$$$com/data/BNU1/ndmg_0-0-48/graphs/HarvardOxford/sub-0025864_ses-1_dwi_HarvardOxford$$$gpickle': u''}, {u'https://mrneurodata$$$s3$$$amazonaws$$$com/data/BNU1/ndmg_0-0-48/graphs/HarvardOxford/sub-0025864_ses-2_dwi_HarvardOxford$$$gpickle': u''}], u'DS06481': [{u'https://mrneurodata$$$s3$$$amazonaws$$$com/data/BNU1/ndmg_0-0-48/graphs/DS06481/sub-0025864_ses-1_dwi_DS06481$$$gpickle': u''}, {u'https://mrneurodata$$$s3$$$amazonaws$$$com/data/BNU1/ndmg_0-0-48/graphs/DS06481/sub-0025864_ses-2_dwi_DS06481$$$gpickle': u''}], u'DS00833': [{u'https://mrneurodata$$$s3$$$amazonaws$$$com/data/BNU1/ndmg_0-0-48/graphs/DS00833/sub-0025864_ses-1_dwi_DS00833$$$gpickle': u''}, {u'https://mrneurodata$$$s3$$$amazonaws$$$com/data/BNU1/ndmg_0-0-48/graphs/DS00833/sub-0025864_ses-2_dwi_DS00833$$$gpickle': u''}], u'DS01876': [{u'https://mrneurodata$$$s3$$$amazonaws$$$com/data/BNU1/ndmg_0-0-48/graphs/DS01876/sub-0025864_ses-1_dwi_DS01876$$$gpickle': u''}, {u'https://mrneurodata$$$s3$$$amazonaws$$$com/data/BNU1/ndmg_0-0-48/graphs/DS01876/sub-0025864_ses-2_dwi_DS01876$$$gpickle': u''}], u'DS00096': [{u'https://mrneurodata$$$s3$$$amazonaws$$$com/data/BNU1/ndmg_0-0-48/graphs/DS00096/sub-0025864_ses-1_dwi_DS00096$$$gpickle': u''}, {u'https://mrneurodata$$$s3$$$amazonaws$$$com/data/BNU1/ndmg_0-0-48/graphs/DS00096/sub-0025864_ses-2_dwi_DS00096$$$gpickle': u''}], u'CPAC200': [{u'https://mrneurodata$$$s3$$$amazonaws$$$com/data/BNU1/ndmg_0-0-48/graphs/CPAC200/sub-0025864_ses-1_dwi_CPAC200$$$gpickle': u''}, {u'https://mrneurodata$$$s3$$$amazonaws$$$com/data/BNU1/ndmg_0-0-48/graphs/CPAC200/sub-0025864_ses-2_dwi_CPAC200$$$gpickle': u''}], u'desikan': [{u'https://mrneurodata$$$s3$$$amazonaws$$$com/data/BNU1/ndmg_0-0-48/graphs/desikan/sub-0025864_ses-1_dwi_desikan$$$gpickle': u''}, {u'https://mrneurodata$$$s3$$$amazonaws$$$com/data/BNU1/ndmg_0-0-48/graphs/desikan/sub-0025864_ses-2_dwi_desikan$$$gpickle': u''}], u'DS00071': [{u'https://mrneurodata$$$s3$$$amazonaws$$$com/data/BNU1/ndmg_0-0-48/graphs/DS00071/sub-0025864_ses-1_dwi_DS00071$$$gpickle': u''}, {u'https://mrneurodata$$$s3$$$amazonaws$$$com/data/BNU1/ndmg_0-0-48/graphs/DS00071/sub-0025864_ses-2_dwi_DS00071$$$gpickle': u''}], u'DS72784': [{u'https://mrneurodata$$$s3$$$amazonaws$$$com/data/BNU1/ndmg_0-0-48/graphs/DS72784/sub-0025864_ses-1_dwi_DS72784$$$gpickle': u''}, {u'https://mrneurodata$$$s3$$$amazonaws$$$com/data/BNU1/ndmg_0-0-48/graphs/DS72784/sub-0025864_ses-2_dwi_DS72784$$$gpickle': u''}], u'DS00195': [{u'https://mrneurodata$$$s3$$$amazonaws$$$com/data/BNU1/ndmg_0-0-48/graphs/DS00195/sub-0025864_ses-1_dwi_DS00195$$$gpickle': u''}, {u'https://mrneurodata$$$s3$$$amazonaws$$$com/data/BNU1/ndmg_0-0-48/graphs/DS00195/sub-0025864_ses-2_dwi_DS00195$$$gpickle': u''}]}, u'Aligned Images': [{u'http://mrneurodata$$$s3-website-us-east-1$$$amazonaws$$$com/BNU1/ndmg_0-0-48/reg_dti/https://mrneurodata$$$s3$$$amazonaws$$$com/data/BNU1/ndmg_0-0-48/reg_dti/sub-0025864_ses-1_dwi_aligned$$$nii$$$gz': u''}, {u'http://mrneurodata$$$s3-website-us-east-1$$$amazonaws$$$com/BNU1/ndmg_0-0-48/reg_dti/https://mrneurodata$$$s3$$$amazonaws$$$com/data/BNU1/ndmg_0-0-48/reg_dti/sub-0025864_ses-2_dwi_aligned$$$nii$$$gz': u''}], u'Tensors': [{u'http://mrneurodata$$$s3-website-us-east-1$$$amazonaws$$$com/BNU1/ndmg_0-0-48/tensors/https://mrneurodata$$$s3$$$amazonaws$$$com/data/BNU1/ndmg_0-0-48/tensors/sub-0025864_ses-1_dwi_tensors$$$npz': u''}, {u'http://mrneurodata$$$s3-website-us-east-1$$$amazonaws$$$com/BNU1/ndmg_0-0-48/tensors/https://mrneurodata$$$s3$$$amazonaws$$$com/data/BNU1/ndmg_0-0-48/tensors/sub-0025864_ses-1_dwi_tensors_fa_rgb$$$nii$$$gz': u''}, {u'http://mrneurodata$$$s3-website-us-east-1$$$amazonaws$$$com/BNU1/ndmg_0-0-48/tensors/https://mrneurodata$$$s3$$$amazonaws$$$com/data/BNU1/ndmg_0-0-48/tensors/sub-0025864_ses-2_dwi_tensors$$$npz': u''}, {u'http://mrneurodata$$$s3-website-us-east-1$$$amazonaws$$$com/BNU1/ndmg_0-0-48/tensors/https://mrneurodata$$$s3$$$amazonaws$$$com/data/BNU1/ndmg_0-0-48/tensors/sub-0025864_ses-2_dwi_tensors_fa_rgb$$$nii$$$gz': u''}], u'Fibers': [{u'http://mrneurodata$$$s3-website-us-east-1$$$amazonaws$$$com/BNU1/ndmg_0-0-48/fibers/https://mrneurodata$$$s3$$$amazonaws$$$com/data/BNU1/ndmg_0-0-48/fibers/sub-0025864_ses-1_dwi_fibers$$$npz': u''}, {u'http://mrneurodata$$$s3-website-us-east-1$$$amazonaws$$$com/BNU1/ndmg_0-0-48/fibers/https://mrneurodata$$$s3$$$amazonaws$$$com/data/BNU1/ndmg_0-0-48/fibers/sub-0025864_ses-2_dwi_fibers$$$npz': u''}]})]\n"
     ]
    }
   ],
   "source": [
    "print(subject.items())"
   ]
  },
  {
   "cell_type": "code",
   "execution_count": 5,
   "metadata": {
    "collapsed": false
   },
   "outputs": [
    {
     "data": {
      "text/plain": [
       "u'sub-0025864'"
      ]
     },
     "execution_count": 5,
     "metadata": {},
     "output_type": "execute_result"
    }
   ],
   "source": [
    "subject.pop(\"_id\")"
   ]
  },
  {
   "cell_type": "code",
   "execution_count": 12,
   "metadata": {
    "collapsed": false
   },
   "outputs": [
    {
     "name": "stdout",
     "output_type": "stream",
     "text": [
      "[{u'http://mrneurodata$$$s3-website-us-east-1$$$amazonaws$$$com/BNU1/ndmg_0-0-48/reg_dti/https://mrneurodata$$$s3$$$amazonaws$$$com/data/BNU1/ndmg_0-0-48/reg_dti/sub-0025864_ses-1_dwi_aligned$$$nii$$$gz': u''}, {u'http://mrneurodata$$$s3-website-us-east-1$$$amazonaws$$$com/BNU1/ndmg_0-0-48/reg_dti/https://mrneurodata$$$s3$$$amazonaws$$$com/data/BNU1/ndmg_0-0-48/reg_dti/sub-0025864_ses-2_dwi_aligned$$$nii$$$gz': u''}]\n",
      "[{u'http://mrneurodata$$$s3-website-us-east-1$$$amazonaws$$$com/BNU1/ndmg_0-0-48/tensors/https://mrneurodata$$$s3$$$amazonaws$$$com/data/BNU1/ndmg_0-0-48/tensors/sub-0025864_ses-1_dwi_tensors$$$npz': u''}, {u'http://mrneurodata$$$s3-website-us-east-1$$$amazonaws$$$com/BNU1/ndmg_0-0-48/tensors/https://mrneurodata$$$s3$$$amazonaws$$$com/data/BNU1/ndmg_0-0-48/tensors/sub-0025864_ses-1_dwi_tensors_fa_rgb$$$nii$$$gz': u''}, {u'http://mrneurodata$$$s3-website-us-east-1$$$amazonaws$$$com/BNU1/ndmg_0-0-48/tensors/https://mrneurodata$$$s3$$$amazonaws$$$com/data/BNU1/ndmg_0-0-48/tensors/sub-0025864_ses-2_dwi_tensors$$$npz': u''}, {u'http://mrneurodata$$$s3-website-us-east-1$$$amazonaws$$$com/BNU1/ndmg_0-0-48/tensors/https://mrneurodata$$$s3$$$amazonaws$$$com/data/BNU1/ndmg_0-0-48/tensors/sub-0025864_ses-2_dwi_tensors_fa_rgb$$$nii$$$gz': u''}]\n",
      "[{u'http://mrneurodata$$$s3-website-us-east-1$$$amazonaws$$$com/BNU1/ndmg_0-0-48/fibers/https://mrneurodata$$$s3$$$amazonaws$$$com/data/BNU1/ndmg_0-0-48/fibers/sub-0025864_ses-1_dwi_fibers$$$npz': u''}, {u'http://mrneurodata$$$s3-website-us-east-1$$$amazonaws$$$com/BNU1/ndmg_0-0-48/fibers/https://mrneurodata$$$s3$$$amazonaws$$$com/data/BNU1/ndmg_0-0-48/fibers/sub-0025864_ses-2_dwi_fibers$$$npz': u''}]\n"
     ]
    }
   ],
   "source": [
    "for datatype, derivatives in subject.items():\n",
    "    for derivative, values in derivatives.items():\n",
    "        if (isinstance(values, dict)):\n",
    "            continue\n",
    "        else:\n",
    "            print(values)"
   ]
  },
  {
   "cell_type": "code",
   "execution_count": null,
   "metadata": {
    "collapsed": true
   },
   "outputs": [],
   "source": []
  }
 ],
 "metadata": {
  "kernelspec": {
   "display_name": "Python 2",
   "language": "python",
   "name": "python2"
  },
  "language_info": {
   "codemirror_mode": {
    "name": "ipython",
    "version": 2
   },
   "file_extension": ".py",
   "mimetype": "text/x-python",
   "name": "python",
   "nbconvert_exporter": "python",
   "pygments_lexer": "ipython2",
   "version": "2.7.14"
  }
 },
 "nbformat": 4,
 "nbformat_minor": 2
}
