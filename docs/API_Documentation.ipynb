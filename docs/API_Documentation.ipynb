{
 "cells": [
  {
   "cell_type": "markdown",
   "metadata": {},
   "source": [
    "# RESTful API and Web Service\n",
    "This notebook will explore how to setup the actual LIMS service. We will also talk about the code behind the API.\n",
    "\n",
    "## Running the Service\n",
    "Prerequisites: You should have all dependencies (Flask) installed. This step is already done if you ran \"pip install -r requirements.txt\". You also need to have the database built and a Mongo instance running locally on port 27017. Steps to do all of this can be found [here](https://nbviewer.jupyter.org/github/rguo123/m2g-lims/blob/master/docs/Dataset_Registration.ipynb).\n",
    "\n",
    "**Note**: If a Mongo Instance is not running, the service will not load!\n",
    "\n",
    "#### 1. Run (python3) server.py in the [app directory](https://github.com/rguo123/m2g-lims/tree/master/app).\n",
    "#### 2. Go to http://localhost:5000/\n",
    "#### 3. Click on stuff!\n",
    "\n",
    "### You should see this in your web browser:\n",
    "<img src=\"./images/mvp_lims.png\" alt=\"MVP\" style=\"width: 60%;\"/>\n"
   ]
  },
  {
   "cell_type": "markdown",
   "metadata": {},
   "source": [
    "The rest of this notebook will now talk about the implementation of this actual service."
   ]
  },
  {
   "cell_type": "markdown",
   "metadata": {},
   "source": [
    "## RESTful API\n",
    "The service is implemented as a RESTFul API. The client just requests the server for certain Mongo documents with JQuery and our Flask backend makes sure that a correct result is returned. We will focus mainly on the backend.\n",
    "\n",
    "### Backend\n",
    "Right now, the entire service is extremely simple. We do hope to add a lot more routes in the future for advanced search queries, filters, pipeline logging, etc. However, for now, there are only four main routes that we briefly discuss below.\n",
    "\n",
    "#### Index Route ('/')\n",
    "This route is what you get when you load the page. All it does is fetch all the dataset documents and returns them along with how many subjects is in each dataset.\n",
    "\n",
    "**Note**: The status column you see on the index page is just a proof-of-concept for something we want to implement in the future. If there are missing derivatives or errors in a dataset, we would like to specify that. Since we aren't dealing with different pipelines and are just treating everything in m2g.io as absolute, we don't have a \"error\" field in the database yet."
   ]
  },
  {
   "cell_type": "code",
   "execution_count": null,
   "metadata": {
    "collapsed": true
   },
   "outputs": [],
   "source": [
    "@app.route(\"/\")\n",
    "def index():\n",
    "    cursor = lims.find({\"subjects\" : { \"$exists\": True}})\n",
    "    datasets = []\n",
    "    for doc in cursor:\n",
    "        datasets.append({doc[\"_id\"]: len(doc[\"subjects\"])})\n",
    "    return render_template(\"index.html\", datasets = datasets)"
   ]
  },
  {
   "cell_type": "markdown",
   "metadata": {},
   "source": [
    "#### LIMS ID Request Route ('/lims_id_request')\n",
    "This route is the main driver for the entire service. The client will access this route with a GET Request and give either a particular dataset or subject query. This route will then build and return a URL that leads to the requested information. What this route expects from the client is a valid document id in the LIMS database."
   ]
  },
  {
   "cell_type": "code",
   "execution_count": null,
   "metadata": {
    "collapsed": true
   },
   "outputs": [],
   "source": [
    "@app.route(\"/lims_id_request\")\n",
    "def lims_request():\n",
    "    request_id = request.headers.get(\"id\")\n",
    "    if (request_id.find(\"sub-\") != -1):\n",
    "        return url_for(\"subject\", subject_id = request_id)\n",
    "    else:\n",
    "        return url_for(\"dataset\", dataset_id = request_id)"
   ]
  },
  {
   "cell_type": "markdown",
   "metadata": {},
   "source": [
    "#### Dataset and Subject Route\n",
    "These routes are very similar so we will combine them here. They both perform the actual request to the LIMS database. The only difference is that different HTML tables will get rendered since the information for a dataset document and subject document are very different."
   ]
  },
  {
   "cell_type": "code",
   "execution_count": null,
   "metadata": {
    "collapsed": true
   },
   "outputs": [],
   "source": [
    "@app.route(\"/dataset\")\n",
    "def dataset():\n",
    "    dataset_id = request.args.get(\"dataset_id\")\n",
    "    dataset = lims.find_one({\"_id\": dataset_id})\n",
    "    subjects = dataset[\"subjects\"]\n",
    "    return render_template(\"dataset_table.html\", dataset_id = dataset_id, subjects = subjects)\n",
    "\n",
    "@app.route(\"/subject\")\n",
    "def subject():\n",
    "    subject_id = request.args.get(\"subject_id\")\n",
    "    subject = lims.find_one({\"_id\": subject_id})\n",
    "    # get rid of ID so easier to process derivatives\n",
    "    subject.pop(\"_id\")\n",
    "    return render_template(\"subject_table.html\", subject_id = subject_id, subject = subject)"
   ]
  },
  {
   "cell_type": "markdown",
   "metadata": {},
   "source": [
    "Note that for the subject route, we have to pop the id field. This is because actually rendering all the nested dictionaries in the database is extremely annoying. For all the HTML tables starting with the index route, all the important information is parsed in using Jinja2 Templating. However, since subject documents have so much information, displaying everything is difficult. "
   ]
  },
  {
   "cell_type": "code",
   "execution_count": null,
   "metadata": {
    "collapsed": true
   },
   "outputs": [],
   "source": []
  }
 ],
 "metadata": {
  "kernelspec": {
   "display_name": "Python 3",
   "language": "python",
   "name": "python3"
  },
  "language_info": {
   "codemirror_mode": {
    "name": "ipython",
    "version": 3
   },
   "file_extension": ".py",
   "mimetype": "text/x-python",
   "name": "python",
   "nbconvert_exporter": "python",
   "pygments_lexer": "ipython3",
   "version": "3.6.2"
  }
 },
 "nbformat": 4,
 "nbformat_minor": 2
}
